{
 "cells": [
  {
   "cell_type": "code",
   "execution_count": null,
   "id": "9b2def64-7880-40b7-bf5d-2935d81d1fa1",
   "metadata": {},
   "outputs": [],
   "source": [
    "from pyspark.sql import SparkSession\n",
    "from pyspark.sql.functions import dayofweek, to_date, to_timestamp, year, hour, minute, month, when, dayofmonth, dayofweek\n",
    "from pyspark.sql.functions import concat_ws, lpad, lit\n",
    "from pyspark.sql.functions import lag\n",
    "from pyspark.sql.window import Window\n",
    "from pyspark.sql import functions, types\n",
    "\n",
    "#from sklearn.ensemble import IsolationForest\n",
    "#from sklearn.preprocessing import StandardScaler\n",
    "#from sklearn.decomposition import PCA\n",
    "\n",
    "#import pandas as pd\n",
    "import os\n",
    "\n",
    "%matplotlib inline\n",
    "import matplotlib.pyplot as plt"
   ]
  },
  {
   "cell_type": "code",
   "execution_count": 2,
   "id": "88015d8c-ef44-45af-badc-719f8f8ec366",
   "metadata": {},
   "outputs": [],
   "source": [
    "# Modify this please if deploying a demo using a non-default product namespace\n",
    "NAMESPACE: str = \"default\""
   ]
  },
  {
   "cell_type": "code",
   "execution_count": 3,
   "id": "06b8c133-6eb5-4981-8709-9168923db4d0",
   "metadata": {},
   "outputs": [
    {
     "name": "stdout",
     "output_type": "stream",
     "text": [
      "Found file: demo/gas-sensor/raw/20160930_203718.csv\n"
     ]
    }
   ],
   "source": [
    "# Manual check via pyarrow.fs\n",
    "import pyarrow.fs as fs\n",
    "s3 = fs.S3FileSystem(endpoint_override=\"http://minio:9000/\", access_key=\"admin\", secret_key=\"adminadmin\", scheme=\"http\")\n",
    "files = s3.get_file_info(fs.FileSelector(\"demo/gas-sensor/raw/\", recursive=True))\n",
    "for f in files:\n",
    "    print(\"Found file:\", f.path)"
   ]
  },
  {
   "cell_type": "code",
   "execution_count": null,
   "id": "b8f37284",
   "metadata": {},
   "outputs": [],
   "source": [
    "! ls -al /usr/local/spark/jars | grep spark-core\n",
    "! python3 -V\n",
    "! java --version\n",
    "! pyspark --version"
   ]
  },
  {
   "cell_type": "code",
   "execution_count": 4,
   "id": "0c19ab89-013d-4d2f-8243-5b48e3337c8a",
   "metadata": {},
   "outputs": [
    {
     "name": "stdout",
     "output_type": "stream",
     "text": [
      "Spark version: 3.5.1\n",
      "+----+----+\n",
      "|col1|col2|\n",
      "+----+----+\n",
      "|   a|   1|\n",
      "|   b|   2|\n",
      "+----+----+\n",
      "\n"
     ]
    }
   ],
   "source": [
    "from pyspark.sql import SparkSession\n",
    "\n",
    "spark = SparkSession.builder.appName(\"local-test\").master(\"local[*]\").getOrCreate()\n",
    "print(\"Spark version:\", spark.version)\n",
    "df = spark.createDataFrame([(\"a\", 1), (\"b\", 2)], [\"col1\", \"col2\"])\n",
    "df.show()\n",
    "spark.stop()"
   ]
  },
  {
   "cell_type": "code",
   "execution_count": null,
   "id": "606363ba-0c97-4156-af1c-c8ad54745cfb",
   "metadata": {},
   "outputs": [],
   "source": [
    "import os\n",
    "from pyspark.sql import SparkSession\n",
    "\n",
    "NAMESPACE = os.environ.get(\"NAMESPACE\", \"default\")\n",
    "POD_NAME = os.environ.get(\"HOSTNAME\", f\"jupyter-{os.environ.get('USER', 'default')}-{NAMESPACE}\")\n",
    "\n",
    "# works with python-3.11 notebook image\n",
    "#EXECUTOR_IMAGE = \"oci.stackable.tech/sdp/spark-k8s:3.5.0-stackable24.3.0\" \n",
    "\n",
    "# jars differ in size, 17.0.12 vs. 17.0.13, 3.11.10 vs. 3.11.9\n",
    "#SerializableBuffer conflict\n",
    "#EXECUTOR_IMAGE = \"oci.stackable.tech/sdp/spark-k8s:3.5.2-stackable24.11.1\" \n",
    "\n",
    "# java, jars match\n",
    "#Python in worker has different version (3, 10) than that in driver 3.11, PySpark cannot run with different minor versions. \n",
    "#EXECUTOR_IMAGE = \"apache/spark:3.5.2-java17-python3\" \n",
    "\n",
    "# java, jars match\n",
    "#Python in worker has different version (3, 10) than that in driver 3.11, PySpark cannot run with different minor versions. \n",
    "#EXECUTOR_IMAGE = \"spark:3.5.2-scala2.12-java17-python3-ubuntu\" \n",
    "\n",
    "#Python in worker has different version (3, 12) than that in driver 3.11, PySpark cannot run with different minor versions.\n",
    "#EXECUTOR_IMAGE = \"bitnami/spark:3.5.2\"\n",
    "\n",
    "# custom image with python 3.11 - works!\n",
    "# based off: spark:3.5.2-scala2.12-java17-ubuntu\n",
    "# see: \n",
    "EXECUTOR_IMAGE = \"spark:3.5.2-python311\" \n",
    "\n",
    "spark = (\n",
    "    SparkSession.builder\n",
    "    .master(f'k8s://https://{os.environ[\"KUBERNETES_SERVICE_HOST\"]}:{os.environ[\"KUBERNETES_SERVICE_PORT\"]}')\n",
    "    .appName(\"process-s3-data\")\n",
    "    .config(\"spark.kubernetes.container.image\", EXECUTOR_IMAGE)\n",
    "    .config(\"spark.kubernetes.container.image.pullPolicy\", \"IfNotPresent\")\n",
    "    .config(\"spark.kubernetes.namespace\", NAMESPACE)\n",
    "    .config(\"spark.kubernetes.authenticate.driver.serviceAccountName\", \"spark\")\n",
    "    .config(\"spark.kubernetes.authenticate.executor.serviceAccountName\", \"spark\")\n",
    "    #.config(\"spark.driver.host\", f\"driver-service.{NAMESPACE}.svc.cluster.local\")\n",
    "    .config(\"spark.driver.port\", \"2222\")\n",
    "    .config(\"spark.driver.blockManager.port\", \"7777\")\n",
    "    #.config(\"spark.driver.bindAddress\", \"0.0.0.0\")\n",
    "    .config(\"spark.executor.instances\", \"1\")\n",
    "    .config(\"spark.executor.memory\", \"1g\")\n",
    "    .config(\"spark.executor.cores\", \"1\")\n",
    "    # bitnami. See https://github.com/bitnami/containers/issues/52698#issuecomment-2275913474\n",
    "    #.config(\"spark.executorEnv.LD_PRELOAD\", \"/opt/bitnami/common/lib/libnss_wrapper.so\")\n",
    "    #.config(\"spark.jars\", \"/usr/local/spark/jars/spark-core_2.12-3.5.2.jar\")\n",
    "    #.config(\"spark.driver.extraClassPath\", \"/usr/local/spark/jars/spark-core_2.12-3.5.2.jar\")\n",
    "    #.config(\"spark.executor.extraClassPath\", \"/stackable/spark/spark-core_2.12-3.5.2.jar\")\n",
    "    #.config(\"spark.jars.packages\", \"org.apache.hadoop:hadoop-aws:3.3.6,org.apache.hadoop:hadoop-common:3.3.6,com.amazonaws:aws-java-sdk-bundle:1.12.767\")\n",
    "    #.config(\"spark.driver.extraClassPath\", \"/usr/local/spark/jars/spark-core_2.12-3.5.1.jar:/usr/local/spark/jars/spark-sql_2.12-3.5.1.jar:/usr/local/spark/jars/hadoop-aws-3.3.6.jar:/usr/local/spark/jars/hadoop-common-3.3.6.jar\")\n",
    "    #.config(\"spark.executor.extraClassPath\", \"/opt/spark/jars/spark-core_2.12-3.5.1.jar:/opt/spark/jars/spark-sql_2.12-3.5.1.jar:/opt/spark/jars/hadoop-aws-3.3.6.jar:/opt/spark/jars/hadoop-common-3.3.6.jar\")\n",
    "    #.config(\"spark.hadoop.fs.s3a.endpoint\", \"http://minio:9000/\")\n",
    "    #.config(\"spark.hadoop.fs.s3a.path.style.access\", \"true\")\n",
    "    #.config(\"spark.hadoop.fs.s3a.access.key\", \"admin\")\n",
    "    #.config(\"spark.hadoop.fs.s3a.secret.key\", \"adminadmin\")\n",
    "    #.config(\"spark.hadoop.fs.s3a.aws.credentials.provider\", \"org.apache.hadoop.fs.s3a.SimpleAWSCredentialsProvider\")\n",
    "    #.config(\"spark.submit.deployMode\", \"client\")\n",
    "    .config(\"spark.kubernetes.driver.pod.name\", POD_NAME)\n",
    "    # Log classloader source\n",
    "    #.config(\"spark.driver.extraJavaOptions\", \"-verbose:class\")\n",
    "    #.config(\"spark.executor.extraJavaOptions\", \"-verbose:class\")\n",
    "    .getOrCreate()\n",
    ")"
   ]
  },
  {
   "cell_type": "code",
   "execution_count": null,
   "id": "3df1ab91-ab2e-49b0-a72f-164915e4ee80",
   "metadata": {},
   "outputs": [],
   "source": [
    "df = spark.createDataFrame([(\"a\", 1), (\"b\", 2)], [\"col1\", \"col2\"])\n",
    "df.show()"
   ]
  },
  {
   "cell_type": "code",
   "execution_count": null,
   "id": "13a61f07-6b74-4e67-948c-503618a3b971",
   "metadata": {},
   "outputs": [],
   "source": [
    "spark.sparkContext.parallelize([1]).mapPartitions(log_classpath_simple).collect()"
   ]
  },
  {
   "cell_type": "code",
   "execution_count": null,
   "id": "09e6aa50-003e-4654-baad-21825ceea789",
   "metadata": {},
   "outputs": [],
   "source": [
    "# Test\n",
    "print(\"Spark version:\", spark.version)\n",
    "df = spark.createDataFrame([(\"a\", 1), (\"b\", 2)], [\"col1\", \"col2\"])\n",
    "df.show()"
   ]
  },
  {
   "cell_type": "code",
   "execution_count": null,
   "id": "ae9844b5-0709-4f0d-b2ec-679958d979d1",
   "metadata": {},
   "outputs": [],
   "source": [
    "spark = (\n",
    "    SparkSession\n",
    "    .builder\n",
    "    .master(f'k8s://https://{os.environ[\"KUBERNETES_SERVICE_HOST\"]}:{os.environ[\"KUBERNETES_SERVICE_PORT\"]}')\n",
    "    .config(\"spark.kubernetes.container.image\", \"oci.stackable.tech/sdp/spark-k8s:3.5.2-stackable24.11.1\")\n",
    "    #.config(\"spark.kubernetes.driver.container.image\", \"quay.io/jupyter/pyspark-notebook:python-3.11.8\")\n",
    "    .config(\"spark.driver.port\", \"2222\")\n",
    "    .config(\"spark.driver.blockManager.port\", \"7777\")\n",
    "    .config(\"spark.driver.host\", f\"driver-service.{NAMESPACE}.svc.cluster.local\")\n",
    "    .config(\"spark.driver.bindAddress\", \"0.0.0.0\")\n",
    "    .config(\"spark.kubernetes.namespace\", NAMESPACE)\n",
    "    .config(\"spark.kubernetes.authenticate.driver.serviceAccountName\", \"spark\")\n",
    "    .config(\"spark.kubernetes.authenticate.serviceAccountName\", \"spark\")\n",
    "    .config(\"spark.executor.instances\", \"1\")\n",
    "    .config(\"spark.kubernetes.container.image.pullPolicy\", \"IfNotPresent\")\n",
    "    #.config(\"spark.hadoop.fs.s3a.endpoint\", \"http://minio:9000/\")\n",
    "    #.config(\"spark.hadoop.fs.s3a.path.style.access\", \"true\") \n",
    "    #.config(\"spark.hadoop.fs.s3a.access.key\", \"admin\")\n",
    "    #.config(\"spark.hadoop.fs.s3a.secret.key\", \"adminadmin\") \n",
    "    #.config(\"spark.hadoop.fs.s3a.aws.credentials.provider\", \"org.apache.hadoop.fs.s3a.SimpleAWSCredentialsProvider\")\n",
    "    #.config(\"spark.jars.packages\", \"org.apache.hadoop:hadoop-aws:3.3.6,org.apache.hadoop:hadoop-common:3.3.6,com.amazonaws:aws-java-sdk-bundle:1.12.767\")\n",
    "    .appName(\"process-s3-data\")\n",
    "    .getOrCreate()\n",
    ")"
   ]
  },
  {
   "cell_type": "code",
   "execution_count": 6,
   "id": "9f8479cb-f216-4a8f-b9db-6da17ffebaa9",
   "metadata": {},
   "outputs": [
    {
     "name": "stdout",
     "output_type": "stream",
     "text": [
      "Spark version: 3.5.1\n"
     ]
    }
   ],
   "source": [
    "# Verify Spark version\n",
    "print(\"Spark version:\", spark.version)"
   ]
  },
  {
   "cell_type": "code",
   "execution_count": 7,
   "id": "5c1d1980-a5a1-495c-8f5d-6adcb7904de9",
   "metadata": {},
   "outputs": [
    {
     "ename": "Py4JJavaError",
     "evalue": "An error occurred while calling o107.showString.\n: org.apache.spark.SparkException: Job aborted due to stage failure: Task 0 in stage 0.0 failed 4 times, most recent failure: Lost task 0.3 in stage 0.0 (TID 3) (10.244.0.154 executor 1): java.io.InvalidClassException: org.apache.spark.rdd.RDD; local class incompatible: stream classdesc serialVersionUID = 3516924559342767982, local class serialVersionUID = 823754013007382808\n\tat java.base/java.io.ObjectStreamClass.initNonProxy(ObjectStreamClass.java:560)\n\tat java.base/java.io.ObjectInputStream.readNonProxyDesc(ObjectInputStream.java:2020)\n\tat java.base/java.io.ObjectInputStream.readClassDesc(ObjectInputStream.java:1870)\n\tat java.base/java.io.ObjectInputStream.readNonProxyDesc(ObjectInputStream.java:2020)\n\tat java.base/java.io.ObjectInputStream.readClassDesc(ObjectInputStream.java:1870)\n\tat java.base/java.io.ObjectInputStream.readOrdinaryObject(ObjectInputStream.java:2201)\n\tat java.base/java.io.ObjectInputStream.readObject0(ObjectInputStream.java:1687)\n\tat java.base/java.io.ObjectInputStream.defaultReadFields(ObjectInputStream.java:2496)\n\tat java.base/java.io.ObjectInputStream.readSerialData(ObjectInputStream.java:2390)\n\tat java.base/java.io.ObjectInputStream.readOrdinaryObject(ObjectInputStream.java:2228)\n\tat java.base/java.io.ObjectInputStream.readObject0(ObjectInputStream.java:1687)\n\tat java.base/java.io.ObjectInputStream.readObject(ObjectInputStream.java:489)\n\tat java.base/java.io.ObjectInputStream.readObject(ObjectInputStream.java:447)\n\tat org.apache.spark.serializer.JavaDeserializationStream.readObject(JavaSerializer.scala:87)\n\tat org.apache.spark.serializer.JavaSerializerInstance.deserialize(JavaSerializer.scala:129)\n\tat org.apache.spark.scheduler.ResultTask.runTask(ResultTask.scala:86)\n\tat org.apache.spark.TaskContext.runTaskWithListeners(TaskContext.scala:161)\n\tat org.apache.spark.scheduler.Task.run(Task.scala:141)\n\tat org.apache.spark.executor.Executor$TaskRunner.$anonfun$run$4(Executor.scala:620)\n\tat org.apache.spark.util.SparkErrorUtils.tryWithSafeFinally(SparkErrorUtils.scala:64)\n\tat org.apache.spark.util.SparkErrorUtils.tryWithSafeFinally$(SparkErrorUtils.scala:61)\n\tat org.apache.spark.util.Utils$.tryWithSafeFinally(Utils.scala:94)\n\tat org.apache.spark.executor.Executor$TaskRunner.run(Executor.scala:623)\n\tat java.base/java.util.concurrent.ThreadPoolExecutor.runWorker(ThreadPoolExecutor.java:1128)\n\tat java.base/java.util.concurrent.ThreadPoolExecutor$Worker.run(ThreadPoolExecutor.java:628)\n\tat java.base/java.lang.Thread.run(Thread.java:829)\n\nDriver stacktrace:\n\tat org.apache.spark.scheduler.DAGScheduler.failJobAndIndependentStages(DAGScheduler.scala:2856)\n\tat org.apache.spark.scheduler.DAGScheduler.$anonfun$abortStage$2(DAGScheduler.scala:2792)\n\tat org.apache.spark.scheduler.DAGScheduler.$anonfun$abortStage$2$adapted(DAGScheduler.scala:2791)\n\tat scala.collection.mutable.ResizableArray.foreach(ResizableArray.scala:62)\n\tat scala.collection.mutable.ResizableArray.foreach$(ResizableArray.scala:55)\n\tat scala.collection.mutable.ArrayBuffer.foreach(ArrayBuffer.scala:49)\n\tat org.apache.spark.scheduler.DAGScheduler.abortStage(DAGScheduler.scala:2791)\n\tat org.apache.spark.scheduler.DAGScheduler.$anonfun$handleTaskSetFailed$1(DAGScheduler.scala:1247)\n\tat org.apache.spark.scheduler.DAGScheduler.$anonfun$handleTaskSetFailed$1$adapted(DAGScheduler.scala:1247)\n\tat scala.Option.foreach(Option.scala:407)\n\tat org.apache.spark.scheduler.DAGScheduler.handleTaskSetFailed(DAGScheduler.scala:1247)\n\tat org.apache.spark.scheduler.DAGSchedulerEventProcessLoop.doOnReceive(DAGScheduler.scala:3060)\n\tat org.apache.spark.scheduler.DAGSchedulerEventProcessLoop.onReceive(DAGScheduler.scala:2994)\n\tat org.apache.spark.scheduler.DAGSchedulerEventProcessLoop.onReceive(DAGScheduler.scala:2983)\n\tat org.apache.spark.util.EventLoop$$anon$1.run(EventLoop.scala:49)\n\tat org.apache.spark.scheduler.DAGScheduler.runJob(DAGScheduler.scala:989)\n\tat org.apache.spark.SparkContext.runJob(SparkContext.scala:2398)\n\tat org.apache.spark.SparkContext.runJob(SparkContext.scala:2419)\n\tat org.apache.spark.SparkContext.runJob(SparkContext.scala:2438)\n\tat org.apache.spark.sql.execution.SparkPlan.executeTake(SparkPlan.scala:530)\n\tat org.apache.spark.sql.execution.SparkPlan.executeTake(SparkPlan.scala:483)\n\tat org.apache.spark.sql.execution.CollectLimitExec.executeCollect(limit.scala:61)\n\tat org.apache.spark.sql.Dataset.collectFromPlan(Dataset.scala:4332)\n\tat org.apache.spark.sql.Dataset.$anonfun$head$1(Dataset.scala:3314)\n\tat org.apache.spark.sql.Dataset.$anonfun$withAction$2(Dataset.scala:4322)\n\tat org.apache.spark.sql.execution.QueryExecution$.withInternalError(QueryExecution.scala:546)\n\tat org.apache.spark.sql.Dataset.$anonfun$withAction$1(Dataset.scala:4320)\n\tat org.apache.spark.sql.execution.SQLExecution$.$anonfun$withNewExecutionId$6(SQLExecution.scala:125)\n\tat org.apache.spark.sql.execution.SQLExecution$.withSQLConfPropagated(SQLExecution.scala:201)\n\tat org.apache.spark.sql.execution.SQLExecution$.$anonfun$withNewExecutionId$1(SQLExecution.scala:108)\n\tat org.apache.spark.sql.SparkSession.withActive(SparkSession.scala:900)\n\tat org.apache.spark.sql.execution.SQLExecution$.withNewExecutionId(SQLExecution.scala:66)\n\tat org.apache.spark.sql.Dataset.withAction(Dataset.scala:4320)\n\tat org.apache.spark.sql.Dataset.head(Dataset.scala:3314)\n\tat org.apache.spark.sql.Dataset.take(Dataset.scala:3537)\n\tat org.apache.spark.sql.Dataset.getRows(Dataset.scala:280)\n\tat org.apache.spark.sql.Dataset.showString(Dataset.scala:315)\n\tat java.base/jdk.internal.reflect.NativeMethodAccessorImpl.invoke0(Native Method)\n\tat java.base/jdk.internal.reflect.NativeMethodAccessorImpl.invoke(NativeMethodAccessorImpl.java:77)\n\tat java.base/jdk.internal.reflect.DelegatingMethodAccessorImpl.invoke(DelegatingMethodAccessorImpl.java:43)\n\tat java.base/java.lang.reflect.Method.invoke(Method.java:568)\n\tat py4j.reflection.MethodInvoker.invoke(MethodInvoker.java:244)\n\tat py4j.reflection.ReflectionEngine.invoke(ReflectionEngine.java:374)\n\tat py4j.Gateway.invoke(Gateway.java:282)\n\tat py4j.commands.AbstractCommand.invokeMethod(AbstractCommand.java:132)\n\tat py4j.commands.CallCommand.execute(CallCommand.java:79)\n\tat py4j.ClientServerConnection.waitForCommands(ClientServerConnection.java:182)\n\tat py4j.ClientServerConnection.run(ClientServerConnection.java:106)\n\tat java.base/java.lang.Thread.run(Thread.java:840)\nCaused by: java.io.InvalidClassException: org.apache.spark.rdd.RDD; local class incompatible: stream classdesc serialVersionUID = 3516924559342767982, local class serialVersionUID = 823754013007382808\n\tat java.base/java.io.ObjectStreamClass.initNonProxy(ObjectStreamClass.java:560)\n\tat java.base/java.io.ObjectInputStream.readNonProxyDesc(ObjectInputStream.java:2020)\n\tat java.base/java.io.ObjectInputStream.readClassDesc(ObjectInputStream.java:1870)\n\tat java.base/java.io.ObjectInputStream.readNonProxyDesc(ObjectInputStream.java:2020)\n\tat java.base/java.io.ObjectInputStream.readClassDesc(ObjectInputStream.java:1870)\n\tat java.base/java.io.ObjectInputStream.readOrdinaryObject(ObjectInputStream.java:2201)\n\tat java.base/java.io.ObjectInputStream.readObject0(ObjectInputStream.java:1687)\n\tat java.base/java.io.ObjectInputStream.defaultReadFields(ObjectInputStream.java:2496)\n\tat java.base/java.io.ObjectInputStream.readSerialData(ObjectInputStream.java:2390)\n\tat java.base/java.io.ObjectInputStream.readOrdinaryObject(ObjectInputStream.java:2228)\n\tat java.base/java.io.ObjectInputStream.readObject0(ObjectInputStream.java:1687)\n\tat java.base/java.io.ObjectInputStream.readObject(ObjectInputStream.java:489)\n\tat java.base/java.io.ObjectInputStream.readObject(ObjectInputStream.java:447)\n\tat org.apache.spark.serializer.JavaDeserializationStream.readObject(JavaSerializer.scala:87)\n\tat org.apache.spark.serializer.JavaSerializerInstance.deserialize(JavaSerializer.scala:129)\n\tat org.apache.spark.scheduler.ResultTask.runTask(ResultTask.scala:86)\n\tat org.apache.spark.TaskContext.runTaskWithListeners(TaskContext.scala:161)\n\tat org.apache.spark.scheduler.Task.run(Task.scala:141)\n\tat org.apache.spark.executor.Executor$TaskRunner.$anonfun$run$4(Executor.scala:620)\n\tat org.apache.spark.util.SparkErrorUtils.tryWithSafeFinally(SparkErrorUtils.scala:64)\n\tat org.apache.spark.util.SparkErrorUtils.tryWithSafeFinally$(SparkErrorUtils.scala:61)\n\tat org.apache.spark.util.Utils$.tryWithSafeFinally(Utils.scala:94)\n\tat org.apache.spark.executor.Executor$TaskRunner.run(Executor.scala:623)\n\tat java.base/java.util.concurrent.ThreadPoolExecutor.runWorker(ThreadPoolExecutor.java:1128)\n\tat java.base/java.util.concurrent.ThreadPoolExecutor$Worker.run(ThreadPoolExecutor.java:628)\n\tat java.base/java.lang.Thread.run(Thread.java:829)\n",
     "output_type": "error",
     "traceback": [
      "\u001b[0;31m---------------------------------------------------------------------------\u001b[0m",
      "\u001b[0;31mPy4JJavaError\u001b[0m                             Traceback (most recent call last)",
      "Cell \u001b[0;32mIn[7], line 3\u001b[0m\n\u001b[1;32m      1\u001b[0m \u001b[38;5;66;03m# Test minimal action\u001b[39;00m\n\u001b[1;32m      2\u001b[0m df \u001b[38;5;241m=\u001b[39m spark\u001b[38;5;241m.\u001b[39mcreateDataFrame([(\u001b[38;5;124m\"\u001b[39m\u001b[38;5;124ma\u001b[39m\u001b[38;5;124m\"\u001b[39m, \u001b[38;5;241m1\u001b[39m), (\u001b[38;5;124m\"\u001b[39m\u001b[38;5;124mb\u001b[39m\u001b[38;5;124m\"\u001b[39m, \u001b[38;5;241m2\u001b[39m)], [\u001b[38;5;124m\"\u001b[39m\u001b[38;5;124mcol1\u001b[39m\u001b[38;5;124m\"\u001b[39m, \u001b[38;5;124m\"\u001b[39m\u001b[38;5;124mcol2\u001b[39m\u001b[38;5;124m\"\u001b[39m])\n\u001b[0;32m----> 3\u001b[0m \u001b[43mdf\u001b[49m\u001b[38;5;241;43m.\u001b[39;49m\u001b[43mshow\u001b[49m\u001b[43m(\u001b[49m\u001b[43m)\u001b[49m\n",
      "File \u001b[0;32m/usr/local/spark/python/pyspark/sql/dataframe.py:945\u001b[0m, in \u001b[0;36mDataFrame.show\u001b[0;34m(self, n, truncate, vertical)\u001b[0m\n\u001b[1;32m    885\u001b[0m \u001b[38;5;28;01mdef\u001b[39;00m \u001b[38;5;21mshow\u001b[39m(\u001b[38;5;28mself\u001b[39m, n: \u001b[38;5;28mint\u001b[39m \u001b[38;5;241m=\u001b[39m \u001b[38;5;241m20\u001b[39m, truncate: Union[\u001b[38;5;28mbool\u001b[39m, \u001b[38;5;28mint\u001b[39m] \u001b[38;5;241m=\u001b[39m \u001b[38;5;28;01mTrue\u001b[39;00m, vertical: \u001b[38;5;28mbool\u001b[39m \u001b[38;5;241m=\u001b[39m \u001b[38;5;28;01mFalse\u001b[39;00m) \u001b[38;5;241m-\u001b[39m\u001b[38;5;241m>\u001b[39m \u001b[38;5;28;01mNone\u001b[39;00m:\n\u001b[1;32m    886\u001b[0m \u001b[38;5;250m    \u001b[39m\u001b[38;5;124;03m\"\"\"Prints the first ``n`` rows to the console.\u001b[39;00m\n\u001b[1;32m    887\u001b[0m \n\u001b[1;32m    888\u001b[0m \u001b[38;5;124;03m    .. versionadded:: 1.3.0\u001b[39;00m\n\u001b[0;32m   (...)\u001b[0m\n\u001b[1;32m    943\u001b[0m \u001b[38;5;124;03m    name | Bob\u001b[39;00m\n\u001b[1;32m    944\u001b[0m \u001b[38;5;124;03m    \"\"\"\u001b[39;00m\n\u001b[0;32m--> 945\u001b[0m     \u001b[38;5;28mprint\u001b[39m(\u001b[38;5;28;43mself\u001b[39;49m\u001b[38;5;241;43m.\u001b[39;49m\u001b[43m_show_string\u001b[49m\u001b[43m(\u001b[49m\u001b[43mn\u001b[49m\u001b[43m,\u001b[49m\u001b[43m \u001b[49m\u001b[43mtruncate\u001b[49m\u001b[43m,\u001b[49m\u001b[43m \u001b[49m\u001b[43mvertical\u001b[49m\u001b[43m)\u001b[49m)\n",
      "File \u001b[0;32m/usr/local/spark/python/pyspark/sql/dataframe.py:963\u001b[0m, in \u001b[0;36mDataFrame._show_string\u001b[0;34m(self, n, truncate, vertical)\u001b[0m\n\u001b[1;32m    957\u001b[0m     \u001b[38;5;28;01mraise\u001b[39;00m PySparkTypeError(\n\u001b[1;32m    958\u001b[0m         error_class\u001b[38;5;241m=\u001b[39m\u001b[38;5;124m\"\u001b[39m\u001b[38;5;124mNOT_BOOL\u001b[39m\u001b[38;5;124m\"\u001b[39m,\n\u001b[1;32m    959\u001b[0m         message_parameters\u001b[38;5;241m=\u001b[39m{\u001b[38;5;124m\"\u001b[39m\u001b[38;5;124marg_name\u001b[39m\u001b[38;5;124m\"\u001b[39m: \u001b[38;5;124m\"\u001b[39m\u001b[38;5;124mvertical\u001b[39m\u001b[38;5;124m\"\u001b[39m, \u001b[38;5;124m\"\u001b[39m\u001b[38;5;124marg_type\u001b[39m\u001b[38;5;124m\"\u001b[39m: \u001b[38;5;28mtype\u001b[39m(vertical)\u001b[38;5;241m.\u001b[39m\u001b[38;5;18m__name__\u001b[39m},\n\u001b[1;32m    960\u001b[0m     )\n\u001b[1;32m    962\u001b[0m \u001b[38;5;28;01mif\u001b[39;00m \u001b[38;5;28misinstance\u001b[39m(truncate, \u001b[38;5;28mbool\u001b[39m) \u001b[38;5;129;01mand\u001b[39;00m truncate:\n\u001b[0;32m--> 963\u001b[0m     \u001b[38;5;28;01mreturn\u001b[39;00m \u001b[38;5;28;43mself\u001b[39;49m\u001b[38;5;241;43m.\u001b[39;49m\u001b[43m_jdf\u001b[49m\u001b[38;5;241;43m.\u001b[39;49m\u001b[43mshowString\u001b[49m\u001b[43m(\u001b[49m\u001b[43mn\u001b[49m\u001b[43m,\u001b[49m\u001b[43m \u001b[49m\u001b[38;5;241;43m20\u001b[39;49m\u001b[43m,\u001b[49m\u001b[43m \u001b[49m\u001b[43mvertical\u001b[49m\u001b[43m)\u001b[49m\n\u001b[1;32m    964\u001b[0m \u001b[38;5;28;01melse\u001b[39;00m:\n\u001b[1;32m    965\u001b[0m     \u001b[38;5;28;01mtry\u001b[39;00m:\n",
      "File \u001b[0;32m/usr/local/spark/python/lib/py4j-0.10.9.7-src.zip/py4j/java_gateway.py:1322\u001b[0m, in \u001b[0;36mJavaMember.__call__\u001b[0;34m(self, *args)\u001b[0m\n\u001b[1;32m   1316\u001b[0m command \u001b[38;5;241m=\u001b[39m proto\u001b[38;5;241m.\u001b[39mCALL_COMMAND_NAME \u001b[38;5;241m+\u001b[39m\\\n\u001b[1;32m   1317\u001b[0m     \u001b[38;5;28mself\u001b[39m\u001b[38;5;241m.\u001b[39mcommand_header \u001b[38;5;241m+\u001b[39m\\\n\u001b[1;32m   1318\u001b[0m     args_command \u001b[38;5;241m+\u001b[39m\\\n\u001b[1;32m   1319\u001b[0m     proto\u001b[38;5;241m.\u001b[39mEND_COMMAND_PART\n\u001b[1;32m   1321\u001b[0m answer \u001b[38;5;241m=\u001b[39m \u001b[38;5;28mself\u001b[39m\u001b[38;5;241m.\u001b[39mgateway_client\u001b[38;5;241m.\u001b[39msend_command(command)\n\u001b[0;32m-> 1322\u001b[0m return_value \u001b[38;5;241m=\u001b[39m \u001b[43mget_return_value\u001b[49m\u001b[43m(\u001b[49m\n\u001b[1;32m   1323\u001b[0m \u001b[43m    \u001b[49m\u001b[43manswer\u001b[49m\u001b[43m,\u001b[49m\u001b[43m \u001b[49m\u001b[38;5;28;43mself\u001b[39;49m\u001b[38;5;241;43m.\u001b[39;49m\u001b[43mgateway_client\u001b[49m\u001b[43m,\u001b[49m\u001b[43m \u001b[49m\u001b[38;5;28;43mself\u001b[39;49m\u001b[38;5;241;43m.\u001b[39;49m\u001b[43mtarget_id\u001b[49m\u001b[43m,\u001b[49m\u001b[43m \u001b[49m\u001b[38;5;28;43mself\u001b[39;49m\u001b[38;5;241;43m.\u001b[39;49m\u001b[43mname\u001b[49m\u001b[43m)\u001b[49m\n\u001b[1;32m   1325\u001b[0m \u001b[38;5;28;01mfor\u001b[39;00m temp_arg \u001b[38;5;129;01min\u001b[39;00m temp_args:\n\u001b[1;32m   1326\u001b[0m     \u001b[38;5;28;01mif\u001b[39;00m \u001b[38;5;28mhasattr\u001b[39m(temp_arg, \u001b[38;5;124m\"\u001b[39m\u001b[38;5;124m_detach\u001b[39m\u001b[38;5;124m\"\u001b[39m):\n",
      "File \u001b[0;32m/usr/local/spark/python/pyspark/errors/exceptions/captured.py:179\u001b[0m, in \u001b[0;36mcapture_sql_exception.<locals>.deco\u001b[0;34m(*a, **kw)\u001b[0m\n\u001b[1;32m    177\u001b[0m \u001b[38;5;28;01mdef\u001b[39;00m \u001b[38;5;21mdeco\u001b[39m(\u001b[38;5;241m*\u001b[39ma: Any, \u001b[38;5;241m*\u001b[39m\u001b[38;5;241m*\u001b[39mkw: Any) \u001b[38;5;241m-\u001b[39m\u001b[38;5;241m>\u001b[39m Any:\n\u001b[1;32m    178\u001b[0m     \u001b[38;5;28;01mtry\u001b[39;00m:\n\u001b[0;32m--> 179\u001b[0m         \u001b[38;5;28;01mreturn\u001b[39;00m \u001b[43mf\u001b[49m\u001b[43m(\u001b[49m\u001b[38;5;241;43m*\u001b[39;49m\u001b[43ma\u001b[49m\u001b[43m,\u001b[49m\u001b[43m \u001b[49m\u001b[38;5;241;43m*\u001b[39;49m\u001b[38;5;241;43m*\u001b[39;49m\u001b[43mkw\u001b[49m\u001b[43m)\u001b[49m\n\u001b[1;32m    180\u001b[0m     \u001b[38;5;28;01mexcept\u001b[39;00m Py4JJavaError \u001b[38;5;28;01mas\u001b[39;00m e:\n\u001b[1;32m    181\u001b[0m         converted \u001b[38;5;241m=\u001b[39m convert_exception(e\u001b[38;5;241m.\u001b[39mjava_exception)\n",
      "File \u001b[0;32m/usr/local/spark/python/lib/py4j-0.10.9.7-src.zip/py4j/protocol.py:326\u001b[0m, in \u001b[0;36mget_return_value\u001b[0;34m(answer, gateway_client, target_id, name)\u001b[0m\n\u001b[1;32m    324\u001b[0m value \u001b[38;5;241m=\u001b[39m OUTPUT_CONVERTER[\u001b[38;5;28mtype\u001b[39m](answer[\u001b[38;5;241m2\u001b[39m:], gateway_client)\n\u001b[1;32m    325\u001b[0m \u001b[38;5;28;01mif\u001b[39;00m answer[\u001b[38;5;241m1\u001b[39m] \u001b[38;5;241m==\u001b[39m REFERENCE_TYPE:\n\u001b[0;32m--> 326\u001b[0m     \u001b[38;5;28;01mraise\u001b[39;00m Py4JJavaError(\n\u001b[1;32m    327\u001b[0m         \u001b[38;5;124m\"\u001b[39m\u001b[38;5;124mAn error occurred while calling \u001b[39m\u001b[38;5;132;01m{0}\u001b[39;00m\u001b[38;5;132;01m{1}\u001b[39;00m\u001b[38;5;132;01m{2}\u001b[39;00m\u001b[38;5;124m.\u001b[39m\u001b[38;5;130;01m\\n\u001b[39;00m\u001b[38;5;124m\"\u001b[39m\u001b[38;5;241m.\u001b[39m\n\u001b[1;32m    328\u001b[0m         \u001b[38;5;28mformat\u001b[39m(target_id, \u001b[38;5;124m\"\u001b[39m\u001b[38;5;124m.\u001b[39m\u001b[38;5;124m\"\u001b[39m, name), value)\n\u001b[1;32m    329\u001b[0m \u001b[38;5;28;01melse\u001b[39;00m:\n\u001b[1;32m    330\u001b[0m     \u001b[38;5;28;01mraise\u001b[39;00m Py4JError(\n\u001b[1;32m    331\u001b[0m         \u001b[38;5;124m\"\u001b[39m\u001b[38;5;124mAn error occurred while calling \u001b[39m\u001b[38;5;132;01m{0}\u001b[39;00m\u001b[38;5;132;01m{1}\u001b[39;00m\u001b[38;5;132;01m{2}\u001b[39;00m\u001b[38;5;124m. Trace:\u001b[39m\u001b[38;5;130;01m\\n\u001b[39;00m\u001b[38;5;132;01m{3}\u001b[39;00m\u001b[38;5;130;01m\\n\u001b[39;00m\u001b[38;5;124m\"\u001b[39m\u001b[38;5;241m.\u001b[39m\n\u001b[1;32m    332\u001b[0m         \u001b[38;5;28mformat\u001b[39m(target_id, \u001b[38;5;124m\"\u001b[39m\u001b[38;5;124m.\u001b[39m\u001b[38;5;124m\"\u001b[39m, name, value))\n",
      "\u001b[0;31mPy4JJavaError\u001b[0m: An error occurred while calling o107.showString.\n: org.apache.spark.SparkException: Job aborted due to stage failure: Task 0 in stage 0.0 failed 4 times, most recent failure: Lost task 0.3 in stage 0.0 (TID 3) (10.244.0.154 executor 1): java.io.InvalidClassException: org.apache.spark.rdd.RDD; local class incompatible: stream classdesc serialVersionUID = 3516924559342767982, local class serialVersionUID = 823754013007382808\n\tat java.base/java.io.ObjectStreamClass.initNonProxy(ObjectStreamClass.java:560)\n\tat java.base/java.io.ObjectInputStream.readNonProxyDesc(ObjectInputStream.java:2020)\n\tat java.base/java.io.ObjectInputStream.readClassDesc(ObjectInputStream.java:1870)\n\tat java.base/java.io.ObjectInputStream.readNonProxyDesc(ObjectInputStream.java:2020)\n\tat java.base/java.io.ObjectInputStream.readClassDesc(ObjectInputStream.java:1870)\n\tat java.base/java.io.ObjectInputStream.readOrdinaryObject(ObjectInputStream.java:2201)\n\tat java.base/java.io.ObjectInputStream.readObject0(ObjectInputStream.java:1687)\n\tat java.base/java.io.ObjectInputStream.defaultReadFields(ObjectInputStream.java:2496)\n\tat java.base/java.io.ObjectInputStream.readSerialData(ObjectInputStream.java:2390)\n\tat java.base/java.io.ObjectInputStream.readOrdinaryObject(ObjectInputStream.java:2228)\n\tat java.base/java.io.ObjectInputStream.readObject0(ObjectInputStream.java:1687)\n\tat java.base/java.io.ObjectInputStream.readObject(ObjectInputStream.java:489)\n\tat java.base/java.io.ObjectInputStream.readObject(ObjectInputStream.java:447)\n\tat org.apache.spark.serializer.JavaDeserializationStream.readObject(JavaSerializer.scala:87)\n\tat org.apache.spark.serializer.JavaSerializerInstance.deserialize(JavaSerializer.scala:129)\n\tat org.apache.spark.scheduler.ResultTask.runTask(ResultTask.scala:86)\n\tat org.apache.spark.TaskContext.runTaskWithListeners(TaskContext.scala:161)\n\tat org.apache.spark.scheduler.Task.run(Task.scala:141)\n\tat org.apache.spark.executor.Executor$TaskRunner.$anonfun$run$4(Executor.scala:620)\n\tat org.apache.spark.util.SparkErrorUtils.tryWithSafeFinally(SparkErrorUtils.scala:64)\n\tat org.apache.spark.util.SparkErrorUtils.tryWithSafeFinally$(SparkErrorUtils.scala:61)\n\tat org.apache.spark.util.Utils$.tryWithSafeFinally(Utils.scala:94)\n\tat org.apache.spark.executor.Executor$TaskRunner.run(Executor.scala:623)\n\tat java.base/java.util.concurrent.ThreadPoolExecutor.runWorker(ThreadPoolExecutor.java:1128)\n\tat java.base/java.util.concurrent.ThreadPoolExecutor$Worker.run(ThreadPoolExecutor.java:628)\n\tat java.base/java.lang.Thread.run(Thread.java:829)\n\nDriver stacktrace:\n\tat org.apache.spark.scheduler.DAGScheduler.failJobAndIndependentStages(DAGScheduler.scala:2856)\n\tat org.apache.spark.scheduler.DAGScheduler.$anonfun$abortStage$2(DAGScheduler.scala:2792)\n\tat org.apache.spark.scheduler.DAGScheduler.$anonfun$abortStage$2$adapted(DAGScheduler.scala:2791)\n\tat scala.collection.mutable.ResizableArray.foreach(ResizableArray.scala:62)\n\tat scala.collection.mutable.ResizableArray.foreach$(ResizableArray.scala:55)\n\tat scala.collection.mutable.ArrayBuffer.foreach(ArrayBuffer.scala:49)\n\tat org.apache.spark.scheduler.DAGScheduler.abortStage(DAGScheduler.scala:2791)\n\tat org.apache.spark.scheduler.DAGScheduler.$anonfun$handleTaskSetFailed$1(DAGScheduler.scala:1247)\n\tat org.apache.spark.scheduler.DAGScheduler.$anonfun$handleTaskSetFailed$1$adapted(DAGScheduler.scala:1247)\n\tat scala.Option.foreach(Option.scala:407)\n\tat org.apache.spark.scheduler.DAGScheduler.handleTaskSetFailed(DAGScheduler.scala:1247)\n\tat org.apache.spark.scheduler.DAGSchedulerEventProcessLoop.doOnReceive(DAGScheduler.scala:3060)\n\tat org.apache.spark.scheduler.DAGSchedulerEventProcessLoop.onReceive(DAGScheduler.scala:2994)\n\tat org.apache.spark.scheduler.DAGSchedulerEventProcessLoop.onReceive(DAGScheduler.scala:2983)\n\tat org.apache.spark.util.EventLoop$$anon$1.run(EventLoop.scala:49)\n\tat org.apache.spark.scheduler.DAGScheduler.runJob(DAGScheduler.scala:989)\n\tat org.apache.spark.SparkContext.runJob(SparkContext.scala:2398)\n\tat org.apache.spark.SparkContext.runJob(SparkContext.scala:2419)\n\tat org.apache.spark.SparkContext.runJob(SparkContext.scala:2438)\n\tat org.apache.spark.sql.execution.SparkPlan.executeTake(SparkPlan.scala:530)\n\tat org.apache.spark.sql.execution.SparkPlan.executeTake(SparkPlan.scala:483)\n\tat org.apache.spark.sql.execution.CollectLimitExec.executeCollect(limit.scala:61)\n\tat org.apache.spark.sql.Dataset.collectFromPlan(Dataset.scala:4332)\n\tat org.apache.spark.sql.Dataset.$anonfun$head$1(Dataset.scala:3314)\n\tat org.apache.spark.sql.Dataset.$anonfun$withAction$2(Dataset.scala:4322)\n\tat org.apache.spark.sql.execution.QueryExecution$.withInternalError(QueryExecution.scala:546)\n\tat org.apache.spark.sql.Dataset.$anonfun$withAction$1(Dataset.scala:4320)\n\tat org.apache.spark.sql.execution.SQLExecution$.$anonfun$withNewExecutionId$6(SQLExecution.scala:125)\n\tat org.apache.spark.sql.execution.SQLExecution$.withSQLConfPropagated(SQLExecution.scala:201)\n\tat org.apache.spark.sql.execution.SQLExecution$.$anonfun$withNewExecutionId$1(SQLExecution.scala:108)\n\tat org.apache.spark.sql.SparkSession.withActive(SparkSession.scala:900)\n\tat org.apache.spark.sql.execution.SQLExecution$.withNewExecutionId(SQLExecution.scala:66)\n\tat org.apache.spark.sql.Dataset.withAction(Dataset.scala:4320)\n\tat org.apache.spark.sql.Dataset.head(Dataset.scala:3314)\n\tat org.apache.spark.sql.Dataset.take(Dataset.scala:3537)\n\tat org.apache.spark.sql.Dataset.getRows(Dataset.scala:280)\n\tat org.apache.spark.sql.Dataset.showString(Dataset.scala:315)\n\tat java.base/jdk.internal.reflect.NativeMethodAccessorImpl.invoke0(Native Method)\n\tat java.base/jdk.internal.reflect.NativeMethodAccessorImpl.invoke(NativeMethodAccessorImpl.java:77)\n\tat java.base/jdk.internal.reflect.DelegatingMethodAccessorImpl.invoke(DelegatingMethodAccessorImpl.java:43)\n\tat java.base/java.lang.reflect.Method.invoke(Method.java:568)\n\tat py4j.reflection.MethodInvoker.invoke(MethodInvoker.java:244)\n\tat py4j.reflection.ReflectionEngine.invoke(ReflectionEngine.java:374)\n\tat py4j.Gateway.invoke(Gateway.java:282)\n\tat py4j.commands.AbstractCommand.invokeMethod(AbstractCommand.java:132)\n\tat py4j.commands.CallCommand.execute(CallCommand.java:79)\n\tat py4j.ClientServerConnection.waitForCommands(ClientServerConnection.java:182)\n\tat py4j.ClientServerConnection.run(ClientServerConnection.java:106)\n\tat java.base/java.lang.Thread.run(Thread.java:840)\nCaused by: java.io.InvalidClassException: org.apache.spark.rdd.RDD; local class incompatible: stream classdesc serialVersionUID = 3516924559342767982, local class serialVersionUID = 823754013007382808\n\tat java.base/java.io.ObjectStreamClass.initNonProxy(ObjectStreamClass.java:560)\n\tat java.base/java.io.ObjectInputStream.readNonProxyDesc(ObjectInputStream.java:2020)\n\tat java.base/java.io.ObjectInputStream.readClassDesc(ObjectInputStream.java:1870)\n\tat java.base/java.io.ObjectInputStream.readNonProxyDesc(ObjectInputStream.java:2020)\n\tat java.base/java.io.ObjectInputStream.readClassDesc(ObjectInputStream.java:1870)\n\tat java.base/java.io.ObjectInputStream.readOrdinaryObject(ObjectInputStream.java:2201)\n\tat java.base/java.io.ObjectInputStream.readObject0(ObjectInputStream.java:1687)\n\tat java.base/java.io.ObjectInputStream.defaultReadFields(ObjectInputStream.java:2496)\n\tat java.base/java.io.ObjectInputStream.readSerialData(ObjectInputStream.java:2390)\n\tat java.base/java.io.ObjectInputStream.readOrdinaryObject(ObjectInputStream.java:2228)\n\tat java.base/java.io.ObjectInputStream.readObject0(ObjectInputStream.java:1687)\n\tat java.base/java.io.ObjectInputStream.readObject(ObjectInputStream.java:489)\n\tat java.base/java.io.ObjectInputStream.readObject(ObjectInputStream.java:447)\n\tat org.apache.spark.serializer.JavaDeserializationStream.readObject(JavaSerializer.scala:87)\n\tat org.apache.spark.serializer.JavaSerializerInstance.deserialize(JavaSerializer.scala:129)\n\tat org.apache.spark.scheduler.ResultTask.runTask(ResultTask.scala:86)\n\tat org.apache.spark.TaskContext.runTaskWithListeners(TaskContext.scala:161)\n\tat org.apache.spark.scheduler.Task.run(Task.scala:141)\n\tat org.apache.spark.executor.Executor$TaskRunner.$anonfun$run$4(Executor.scala:620)\n\tat org.apache.spark.util.SparkErrorUtils.tryWithSafeFinally(SparkErrorUtils.scala:64)\n\tat org.apache.spark.util.SparkErrorUtils.tryWithSafeFinally$(SparkErrorUtils.scala:61)\n\tat org.apache.spark.util.Utils$.tryWithSafeFinally(Utils.scala:94)\n\tat org.apache.spark.executor.Executor$TaskRunner.run(Executor.scala:623)\n\tat java.base/java.util.concurrent.ThreadPoolExecutor.runWorker(ThreadPoolExecutor.java:1128)\n\tat java.base/java.util.concurrent.ThreadPoolExecutor$Worker.run(ThreadPoolExecutor.java:628)\n\tat java.base/java.lang.Thread.run(Thread.java:829)\n"
     ]
    }
   ],
   "source": [
    "# Test minimal action\n",
    "df = spark.createDataFrame([(\"a\", 1), (\"b\", 2)], [\"col1\", \"col2\"])\n",
    "df.show()"
   ]
  },
  {
   "cell_type": "code",
   "execution_count": null,
   "id": "548f86fd-ea28-4eee-9b76-cc047b42713a",
   "metadata": {},
   "outputs": [],
   "source": [
    "# Write a test CSV\n",
    "test_df = spark.createDataFrame([(\"a\", 1), (\"b\", 2)], [\"col1\", \"col2\"])\n",
    "test_df.show()"
   ]
  },
  {
   "cell_type": "code",
   "execution_count": null,
   "id": "35861943-7586-434f-a03d-31ebf03b59d7",
   "metadata": {},
   "outputs": [],
   "source": [
    "test_df.write.csv(\"s3a://demo/gas-sensor/test/\", mode=\"overwrite\")"
   ]
  },
  {
   "cell_type": "code",
   "execution_count": null,
   "id": "a319fa38-96de-4c8a-96e0-8e47ef5a7561",
   "metadata": {},
   "outputs": [],
   "source": [
    "# Read it back\n",
    "df = spark.read.csv(\"s3a://demo/gas-sensor/test/\")\n",
    "df.show()"
   ]
  },
  {
   "cell_type": "code",
   "execution_count": null,
   "id": "4a5f2667-6596-45ca-bb7b-25a6bfdf5ab7",
   "metadata": {},
   "outputs": [],
   "source": [
    "print(spark.version)\n",
    "print(spark._jsc.hadoopConfiguration().get(\"hadoop.version\"))"
   ]
  },
  {
   "cell_type": "code",
   "execution_count": null,
   "id": "6a34fecf-bf29-4b9e-8156-942be445c96c",
   "metadata": {},
   "outputs": [],
   "source": [
    "df = spark.read.csv(\"s3a://demo/gas-sensor/raw/20160930_203718.csv\")\n",
    "df.show()"
   ]
  },
  {
   "cell_type": "code",
   "execution_count": null,
   "id": "9cdaef7c-5023-447d-b9ed-e22c686e084d",
   "metadata": {},
   "outputs": [],
   "source": [
    "# Get JARs using toString() on the Vector\n",
    "jars_vector = spark.sparkContext._jsc.sc().listJars()\n",
    "jars_str = jars_vector.toString()\n",
    "print(\"Loaded JARs (raw string):\")\n",
    "print(jars_str)\n",
    "\n",
    "# Verify Spark version\n",
    "print(\"Spark version:\", spark.version)"
   ]
  },
  {
   "cell_type": "code",
   "execution_count": null,
   "id": "27280d24-be42-45dc-afc1-f5a742387ad5",
   "metadata": {},
   "outputs": [],
   "source": [
    "classpath = spark.sparkContext._jvm.java.lang.System.getProperty(\"java.class.path\")\n",
    "print(\"Full JVM Classpath:\")\n",
    "print(classpath)"
   ]
  },
  {
   "cell_type": "code",
   "execution_count": null,
   "id": "ad5f2e40-99f7-470b-a7d3-d5e9aaf4690d",
   "metadata": {},
   "outputs": [],
   "source": [
    "# Print full classpath\n",
    "classpath = spark.sparkContext._jvm.java.lang.System.getProperty(\"java.class.path\")\n",
    "print(\"Full JVM Classpath:\")\n",
    "print(classpath)\n",
    "\n",
    "# Verify Spark version\n",
    "print(\"Spark version:\", spark.version)\n",
    "\n",
    "# Set log level\n",
    "spark.sparkContext.setLogLevel(\"DEBUG\")\n",
    "\n",
    "# Test minimal action\n",
    "print(\"Creating DataFrame...\")\n",
    "df = spark.createDataFrame([(\"a\", 1), (\"b\", 2)], [\"col1\", \"col2\"])\n",
    "print(\"Attempting show...\")\n",
    "try:\n",
    "    df.show()\n",
    "except Exception as e:\n",
    "    print(\"Error:\", e)\n",
    "    print(\"Full stack trace:\")\n",
    "    traceback.print_exc()\n",
    "\n",
    "# Check executor classpath (if possible)\n",
    "print(\"Executor classpath (may require logs):\")\n",
    "spark.sparkContext._jsc.sc().getExecutorMemoryStatus()  # Trigger executor communication"
   ]
  },
  {
   "cell_type": "code",
   "execution_count": null,
   "id": "5c0aecd0-b47b-493f-beff-d404e4461823",
   "metadata": {},
   "outputs": [],
   "source": [
    "import pyarrow.fs as fs\n",
    "s3 = fs.S3FileSystem(endpoint_override=\"http://minio:9000/\", access_key=\"admin\", secret_key=\"adminadmin\", scheme=\"http\")\n",
    "files = s3.get_file_info(fs.FileSelector(\"demo/gas-sensor/raw/\", recursive=True))\n",
    "for f in files:\n",
    "    if \"_temporary\" in f.path or \"shuffle\" in f.path:\n",
    "        print(\"Deleting:\", f.path)\n",
    "        s3.delete_file(f.path)"
   ]
  },
  {
   "cell_type": "code",
   "execution_count": null,
   "id": "7badde9b-0c97-4a3e-9b41-272d7640d73c",
   "metadata": {},
   "outputs": [],
   "source": [
    "from pyspark.sql import SparkSession\n",
    "import traceback\n",
    "\n",
    "# Start fresh\n",
    "if 'spark' in globals():\n",
    "    spark.stop()\n",
    "\n",
    "spark = SparkSession.builder \\\n",
    "    .appName(\"S3AExample\") \\\n",
    "    .config(\"spark.jars.packages\", \"org.apache.spark:spark-core_2.12:3.5.1,org.apache.spark:spark-sql_2.12:3.5.1,org.apache.hadoop:hadoop-aws:3.3.6,org.apache.hadoop:hadoop-common:3.3.6,com.amazonaws:aws-java-sdk-bundle:1.12.767\") \\\n",
    "    .config(\"spark.driver.extraClassPath\", \"/usr/local/spark/jars/spark-core_2.12-3.5.1.jar:/usr/local/spark/jars/spark-sql_2.12-3.5.1.jar\") \\\n",
    "    .config(\"spark.executor.extraClassPath\", \"/usr/local/spark/jars/spark-core_2.12-3.5.1.jar:/usr/local/spark/jars/spark-sql_2.12-3.5.1.jar\") \\\n",
    "    .config(\"spark.hadoop.fs.s3a.endpoint\", \"http://minio:9000/\") \\\n",
    "    .config(\"spark.hadoop.fs.s3a.path.style.access\", \"true\") \\\n",
    "    .config(\"spark.hadoop.fs.s3a.access.key\", \"admin\") \\\n",
    "    .config(\"spark.hadoop.fs.s3a.secret.key\", \"admin\") \\\n",
    "    .config(\"spark.hadoop.fs.s3a.impl\", \"org.apache.hadoop.fs.s3a.S3AFileSystem\") \\\n",
    "    .getOrCreate()\n",
    "\n",
    "# Verify Spark version\n",
    "print(\"Spark version:\", spark.version)\n",
    "\n",
    "# Set log level\n",
    "spark.sparkContext.setLogLevel(\"DEBUG\")"
   ]
  },
  {
   "cell_type": "code",
   "execution_count": null,
   "id": "a1b31b2a-f29f-40d7-986e-00ff59c52657",
   "metadata": {},
   "outputs": [],
   "source": [
    "# Run a dummy action to log executor classpath\n",
    "spark.sparkContext.parallelize([1, 2, 3]).foreachPartition(lambda _: \n",
    "    print(spark.sparkContext._jvm.java.lang.System.getProperty(\"java.class.path\")))"
   ]
  },
  {
   "cell_type": "code",
   "execution_count": null,
   "id": "677eb4c3-c9e3-43cf-810b-5d0167cc6550",
   "metadata": {},
   "outputs": [],
   "source": [
    "# Test minimal action\n",
    "print(\"Creating DataFrame...\")\n",
    "df = spark.createDataFrame([(\"a\", 1), (\"b\", 2)], [\"col1\", \"col2\"])\n",
    "print(\"Attempting show...\")\n",
    "try:\n",
    "    df.show()\n",
    "except Exception as e:\n",
    "    print(\"Error:\", e)\n",
    "    print(\"Full stack trace:\")\n",
    "    traceback.print_exc()"
   ]
  },
  {
   "cell_type": "code",
   "execution_count": null,
   "id": "da26c1d9-6c85-4b7a-aa09-d09917da833f",
   "metadata": {},
   "outputs": [],
   "source": [
    "import os\n",
    "from pyspark.sql import SparkSession\n",
    "\n",
    "NAMESPACE = os.environ.get(\"NAMESPACE\", \"default\")  # Adjust if needed\n",
    "POD_NAME = os.environ.get(\"HOSTNAME\", f\"jupyter-{os.environ.get('USER', 'default')}-{NAMESPACE}\")  # Use actual pod name\n",
    "\n",
    "spark = (\n",
    "    SparkSession.builder\n",
    "    .master(f'k8s://https://{os.environ[\"KUBERNETES_SERVICE_HOST\"]}:{os.environ[\"KUBERNETES_SERVICE_PORT\"]}')\n",
    "    .appName(\"process-s3-data\")\n",
    "    .config(\"spark.kubernetes.container.image\", \"quay.io/jupyter/pyspark-notebook:python-3.11.8\")\n",
    "    .config(\"spark.kubernetes.container.image.pullPolicy\", \"IfNotPresent\")\n",
    "    .config(\"spark.kubernetes.namespace\", NAMESPACE)\n",
    "    .config(\"spark.kubernetes.authenticate.driver.serviceAccountName\", \"spark\")\n",
    "    .config(\"spark.kubernetes.authenticate.executor.serviceAccountName\", \"spark\")\n",
    "    .config(\"spark.driver.host\", f\"driver-service.{NAMESPACE}.svc.cluster.local\")\n",
    "    .config(\"spark.driver.port\", \"2222\")\n",
    "    .config(\"spark.driver.blockManager.port\", \"7777\")\n",
    "    .config(\"spark.driver.bindAddress\", \"0.0.0.0\")\n",
    "    .config(\"spark.executor.instances\", \"1\")\n",
    "    .config(\"spark.executor.memory\", \"1g\")\n",
    "    .config(\"spark.executor.cores\", \"1\")\n",
    "    .config(\"spark.jars.packages\", \"org.apache.hadoop:hadoop-aws:3.3.6,org.apache.hadoop:hadoop-common:3.3.6,com.amazonaws:aws-java-sdk-bundle:1.12.767\")\n",
    "    .config(\"spark.hadoop.fs.s3a.endpoint\", \"http://minio:9000/\")\n",
    "    .config(\"spark.hadoop.fs.s3a.path.style.access\", \"true\")\n",
    "    .config(\"spark.hadoop.fs.s3a.access.key\", \"admin\")\n",
    "    .config(\"spark.hadoop.fs.s3a.secret.key\", \"adminadmin\")\n",
    "    .config(\"spark.hadoop.fs.s3a.aws.credentials.provider\", \"org.apache.hadoop.fs.s3a.SimpleAWSCredentialsProvider\")\n",
    "    .config(\"spark.submit.deployMode\", \"client\")  # Explicitly enforce client mode\n",
    "    .config(\"spark.kubernetes.driver.pod.name\", POD_NAME)  # Match current Jupyter pod\n",
    "    .getOrCreate()\n",
    ")\n",
    "\n",
    "# Verify Spark version\n",
    "print(\"Spark version:\", spark.version)\n",
    "\n",
    "# Test minimal action\n",
    "df = spark.createDataFrame([(\"a\", 1), (\"b\", 2)], [\"col1\", \"col2\"])\n",
    "df.show()"
   ]
  },
  {
   "cell_type": "code",
   "execution_count": null,
   "id": "a22222e3-fe6f-4798-9e90-792e518c0d8b",
   "metadata": {},
   "outputs": [],
   "source": [
    "print(\"Spark version:\", spark.version)"
   ]
  },
  {
   "cell_type": "code",
   "execution_count": null,
   "id": "a5b13039-c15b-49cc-9777-5f374a4de254",
   "metadata": {},
   "outputs": [],
   "source": []
  }
 ],
 "metadata": {
  "kernelspec": {
   "display_name": "Python 3 (ipykernel)",
   "language": "python",
   "name": "python3"
  },
  "language_info": {
   "codemirror_mode": {
    "name": "ipython",
    "version": 3
   },
   "file_extension": ".py",
   "mimetype": "text/x-python",
   "name": "python",
   "nbconvert_exporter": "python",
   "pygments_lexer": "ipython3",
   "version": "3.11.8"
  }
 },
 "nbformat": 4,
 "nbformat_minor": 5
}
