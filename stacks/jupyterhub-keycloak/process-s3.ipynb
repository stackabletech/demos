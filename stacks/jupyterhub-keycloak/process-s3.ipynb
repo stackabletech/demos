{
 "cells": [
  {
   "cell_type": "code",
   "execution_count": null,
   "id": "b8f37284",
   "metadata": {},
   "outputs": [],
   "source": [
    "# Output notebook versions\n",
    "! python3 -V\n",
    "! java --version\n",
    "! pyspark --version"
   ]
  },
  {
   "cell_type": "code",
   "execution_count": null,
   "id": "bd941fee",
   "metadata": {},
   "outputs": [],
   "source": [
    "import os\n",
    "\n",
    "# get minio credentials\n",
    "with open(\"/minio-s3-credentials/accessKey\", \"r\") as f:\n",
    "    minio_user = f.read().strip()\n",
    "\n",
    "with open(\"/minio-s3-credentials/secretKey\", \"r\") as f:\n",
    "    minio_pwd = f.read().strip()"
   ]
  },
  {
   "cell_type": "code",
   "execution_count": null,
   "id": "606363ba-0c97-4156-af1c-c8ad54745cfb",
   "metadata": {},
   "outputs": [],
   "source": [
    "from pyspark.sql import SparkSession\n",
    "\n",
    "NAMESPACE = os.environ.get(\"NAMESPACE\", \"default\")\n",
    "POD_NAME = os.environ.get(\"HOSTNAME\", f\"jupyter-{os.environ.get('USER', 'default')}-{NAMESPACE}\")\n",
    "\n",
    "EXECUTOR_IMAGE = \"oci.stackable.tech/sandbox/spark:3.5.2-python311\" \n",
    "\n",
    "spark = (\n",
    "    SparkSession.builder\n",
    "    .master(f'k8s://https://{os.environ[\"KUBERNETES_SERVICE_HOST\"]}:{os.environ[\"KUBERNETES_SERVICE_PORT\"]}')\n",
    "    .appName(\"process-s3-data-\"{os.environ.get('USER', 'default')}-{NAMESPACE})\n",
    "    .config(\"spark.kubernetes.container.image\", EXECUTOR_IMAGE)\n",
    "    .config(\"spark.kubernetes.container.image.pullPolicy\", \"IfNotPresent\")\n",
    "    .config(\"spark.kubernetes.namespace\", NAMESPACE)\n",
    "    .config(\"spark.kubernetes.authenticate.driver.serviceAccountName\", \"spark\")\n",
    "    .config(\"spark.kubernetes.authenticate.executor.serviceAccountName\", \"spark\")\n",
    "    .config(\"spark.driver.port\", \"2222\")\n",
    "    .config(\"spark.driver.blockManager.port\", \"7777\")\n",
    "    .config(\"spark.executor.instances\", \"1\")\n",
    "    .config(\"spark.executor.memory\", \"1g\")\n",
    "    .config(\"spark.executor.cores\", \"1\")\n",
    "    .config(\"spark.hadoop.fs.s3a.endpoint\", \"http://minio:9000/\")\n",
    "    .config(\"spark.hadoop.fs.s3a.path.style.access\", \"true\")\n",
    "    .config(\"spark.hadoop.fs.s3a.access.key\", minio_user)\n",
    "    .config(\"spark.hadoop.fs.s3a.secret.key\", minio_pwd)\n",
    "    .config(\"spark.hadoop.fs.s3a.aws.credentials.provider\", \"org.apache.hadoop.fs.s3a.SimpleAWSCredentialsProvider\")\n",
    "    .config(\"spark.jars.packages\", \"org.apache.hadoop:hadoop-client-api:3.3.4,org.apache.hadoop:hadoop-client-runtime:3.3.4,org.apache.hadoop:hadoop-aws:3.3.4,org.apache.hadoop:hadoop-common:3.3.4,com.amazonaws:aws-java-sdk-bundle:1.12.162\")\n",
    "    .config(\"spark.submit.deployMode\", \"client\")\n",
    "    .config(\"spark.kubernetes.driver.pod.name\", POD_NAME)\n",
    "    .getOrCreate()\n",
    ")"
   ]
  },
  {
   "cell_type": "code",
   "execution_count": null,
   "id": "3df1ab91-ab2e-49b0-a72f-164915e4ee80",
   "metadata": {},
   "outputs": [],
   "source": [
    "df = spark.createDataFrame([(\"a\", 1), (\"b\", 2)], [\"col1\", \"col2\"])\n",
    "df.show()"
   ]
  },
  {
   "cell_type": "code",
   "execution_count": null,
   "id": "9f8479cb-f216-4a8f-b9db-6da17ffebaa9",
   "metadata": {},
   "outputs": [],
   "source": [
    "# Manual S3 file check via pyarrow.fs\n",
    "import pyarrow.fs as fs\n",
    "\n",
    "s3 = fs.S3FileSystem(endpoint_override=\"http://minio:9000/\", access_key=minio_user, secret_key=minio_pwd, scheme=\"http\")\n",
    "files = s3.get_file_info(fs.FileSelector(\"demo/gas-sensor/raw/\", recursive=True))\n",
    "for f in files:\n",
    "    print(\"Found file:\", f.path)"
   ]
  },
  {
   "cell_type": "code",
   "execution_count": null,
   "id": "bc35f4d3",
   "metadata": {},
   "outputs": [],
   "source": [
    "df = spark.read.csv(\"s3a://demo/gas-sensor/raw/\", header = True)\n",
    "df.show()"
   ]
  },
  {
   "cell_type": "code",
   "execution_count": null,
   "id": "943f77f6",
   "metadata": {},
   "outputs": [],
   "source": [
    "df.count()"
   ]
  },
  {
   "cell_type": "code",
   "execution_count": null,
   "id": "35861943-7586-434f-a03d-31ebf03b59d7",
   "metadata": {},
   "outputs": [],
   "source": [
    "df.write.csv(\"s3a://demo/gas-sensor/rewritten/\", mode=\"overwrite\")\n",
    "df.write.parquet(\"s3a://demo/gas-sensor/parquet/\", mode=\"overwrite\")\n",
    "\n",
    "df2 = spark.read.parquet(\"s3a://demo/gas-sensor/parquet/\", header = True)\n",
    "df2.count()"
   ]
  },
  {
   "cell_type": "code",
   "execution_count": null,
   "id": "a319fa38-96de-4c8a-96e0-8e47ef5a7561",
   "metadata": {},
   "outputs": [],
   "source": [
    "from pyspark.sql import functions\n",
    "\n",
    "df2 = df2.withColumn(\"hour\", (functions.floor(df2.timesecs / 60) + 1))\n",
    "\n",
    "dfs = df2.select(\n",
    "    df2.hour,\n",
    "    df2.humidity,\n",
    "    df2.temperature,\n",
    "    df2.flowrate\n",
    ").groupby(\"hour\").agg(\n",
    "    functions.round(functions.avg('humidity'), 2).alias('humidity'),\n",
    "    functions.round(functions.avg('temperature'), 2).alias('temperature'),\n",
    "    functions.round(functions.avg('flowrate'), 2).alias('flowrate')\n",
    ").orderBy(\"hour\")\n",
    "\n",
    "dfs.show()"
   ]
  },
  {
   "cell_type": "code",
   "execution_count": null,
   "id": "4276e8e7",
   "metadata": {},
   "outputs": [],
   "source": [
    "dfs.write.parquet(\"s3a://demo/gas-sensor/agg/\", mode=\"overwrite\")"
   ]
  }
 ],
 "metadata": {
  "kernelspec": {
   "display_name": "Python 3 (ipykernel)",
   "language": "python",
   "name": "python3"
  },
  "language_info": {
   "codemirror_mode": {
    "name": "ipython",
    "version": 3
   },
   "file_extension": ".py",
   "mimetype": "text/x-python",
   "name": "python",
   "nbconvert_exporter": "python",
   "pygments_lexer": "ipython3",
   "version": "3.11.8"
  }
 },
 "nbformat": 4,
 "nbformat_minor": 5
}
